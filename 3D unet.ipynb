{
 "cells": [
  {
   "cell_type": "code",
   "execution_count": 82,
   "id": "430deefa",
   "metadata": {},
   "outputs": [],
   "source": [
    "import random\n",
    "import shutil\n",
    "import time\n",
    "import warnings\n",
    "import sys\n",
    "import torch\n",
    "import os\n",
    "import torch.nn as nn\n",
    "from torchvision import transforms\n",
    "import torchvision.models as models\n",
    "import numpy as np\n",
    "import pandas as pd\n",
    "from sklearn.metrics import accuracy_score\n",
    "from tqdm import tqdm\n",
    "import torch.nn.parallel\n",
    "import torch.backends.cudnn as cudnn\n",
    "import torch.distributed as dist\n",
    "import torch.optim as optim\n",
    "import torch.multiprocessing as mp\n",
    "import torch.utils.data\n",
    "import torch.utils.data.distributed\n",
    "from torch.utils.data import Dataset,DataLoader\n",
    "import torch.nn.functional as F\n",
    "import torch.nn.init as init\n",
    "import os\n",
    "import PIL.Image\n",
    "import pandas as pd\n",
    "import numpy as np\n",
    "from PIL import Image\n",
    "from torch.utils.data import Dataset\n",
    "from torchvision import transforms\n",
    "device = torch.device(\"cuda\" if torch.cuda.is_available() else \"cpu\")\n"
   ]
  },
  {
   "cell_type": "code",
   "execution_count": 83,
   "id": "7a00112b",
   "metadata": {},
   "outputs": [],
   "source": [
    "#Model\n",
    "class Conv_Bn_Relu_Block(nn.Module):\n",
    "    def __init__(self, n_stages, n_filters_in, n_filters_out):\n",
    "        super(Conv_Bn_Relu_Block, self).__init__()\n",
    "        stage = []\n",
    "        for i in range(n_stages):\n",
    "            if i == 0:\n",
    "                input_channel = n_filters_in\n",
    "            else:\n",
    "                input_channel = n_filters_out\n",
    "                \n",
    "            stage.append(nn.Conv3d(input_channel, n_filters_out, 3, padding=1))\n",
    "            stage.append(nn.BatchNorm3d(n_filters_out)) \n",
    "            stage.append(nn.ReLU(inplace= True))\n",
    "        self.conv = nn.Sequential(*stage)\n",
    "                \n",
    "    def forward(self, x):\n",
    "        x = self.conv(x)\n",
    "        return x\n",
    "    \n",
    "class Downsampling(nn.Module):\n",
    "    def __init__(self, n_filters_in, n_filters_out, stride=2):\n",
    "        super(Downsampling, self).__init__()\n",
    "        self.conv = nn.Sequential(\n",
    "                nn.Conv3d(n_filters_in, n_filters_out, stride, padding=0),\n",
    "                nn.BatchNorm3d(n_filters_out),\n",
    "                nn.ReLU(inplace= True))\n",
    "\n",
    "    def forward(self, x):\n",
    "        x = self.conv(x)\n",
    "        return x\n",
    "    \n",
    "class Upsampling(nn.Module):\n",
    "    def __init__(self, n_filters_in, n_filters_out, stride=2):\n",
    "        super(Upsampling, self).__init__()\n",
    "        self.conv = nn.Sequential(\n",
    "            nn.ConvTranspose3d(n_filters_in, n_filters_out, stride, padding=0),\n",
    "            nn.BatchNorm3d(n_filters_out),\n",
    "            nn.ReLU(inplace= True))\n",
    "\n",
    "    def forward(self, x):\n",
    "        x = self.conv(x)\n",
    "        return x\n",
    " \n",
    "       \n",
    "    \n",
    "class Res3DUnet(nn.Module):\n",
    "    def __init__(self, n_channels=3, n_classes=2, n_filters=16, drop=False):\n",
    "        super(Res3DUnet, self).__init__()\n",
    "        self.drop = drop\n",
    "        self.b1 = Conv_Bn_Relu_Block(1, n_channels, n_filters)\n",
    "        self.d1 = Downsampling(n_filters, 32)\n",
    "        self.b2 = Conv_Bn_Relu_Block(2, 32, 32)\n",
    "        self.d2 = Downsampling(32, 64)\n",
    "        self.b3 = Conv_Bn_Relu_Block(3, 64, 64)\n",
    "        self.d3 = Downsampling(64, 128)\n",
    "        self.b4 = Conv_Bn_Relu_Block(3, 128, 128)\n",
    "        self.d4 = Downsampling(128, 256)\n",
    "\n",
    "        self.b5 = Conv_Bn_Relu_Block(3, 256, 256)\n",
    "        self.u5 = Upsampling(256, 128)\n",
    "        self.b6 = Conv_Bn_Relu_Block(3, 128, 128)\n",
    "        self.u6 = Upsampling(128, 64)\n",
    "        self.b7 = Conv_Bn_Relu_Block(3, 64, 64)\n",
    "        self.u7 = Upsampling(64, 32)\n",
    "        self.b8 = Conv_Bn_Relu_Block(2, 32, 32)\n",
    "        self.u8 = Upsampling(32, n_filters)\n",
    "        self.b9 = Conv_Bn_Relu_Block(1, n_filters, n_filters)\n",
    "        self.out = nn.Conv3d(n_filters, n_classes, 1, padding=0)\n",
    "        self.drop = nn.Dropout3d(p=0.5, inplace=False)\n",
    "        \n",
    "    def forward(self, input, turnoff_drop=False):\n",
    "        if turnoff_drop:\n",
    "            drop = self.drop\n",
    "            self.drop = False\n",
    "        #encoder\n",
    "        x1 = self.b1(input)\n",
    "        x1_ds = self.d1(x1)\n",
    "\n",
    "        x2 = self.b2(x1_ds)\n",
    "        x2_ds = self.d2(x2)\n",
    "\n",
    "        x3 = self.b3(x2_ds)\n",
    "        x3_ds = self.d3(x3)\n",
    "\n",
    "        x4 = self.b4(x3_ds)\n",
    "        x4_ds = self.d4(x4)\n",
    "\n",
    "        x5 = self.b5(x4_ds)\n",
    "        \n",
    "        #decoder\n",
    "        x5_up = self.u5(x5)\n",
    "        x5_up = x5_up + x4\n",
    "\n",
    "        x6 = self.b6(x5_up)\n",
    "        x6_up = self.u6(x6)\n",
    "        x6_up = x6_up + x3\n",
    "\n",
    "        x7 = self.b7(x6_up)\n",
    "        x7_up = self.u7(x7)\n",
    "        x7_up = x7_up + x2\n",
    "\n",
    "        x8 = self.b8(x7_up)\n",
    "        x8_up = self.u8(x8)\n",
    "        x8_up = x8_up + x1\n",
    "        x9 = self.b9(x8_up)\n",
    "\n",
    "        out = self.out(x9)\n",
    "        \n",
    "        if turnoff_drop:\n",
    "            self.drop = drop\n",
    "        return out"
   ]
  },
  {
   "cell_type": "code",
   "execution_count": 84,
   "id": "bb2664d4",
   "metadata": {},
   "outputs": [],
   "source": [
    "import torch\n",
    "import h5py\n",
    "from torch.utils.data import Dataset\n",
    "import os\n",
    "\n",
    "def read_h5(path):\n",
    "    data = h5py.File(path, 'r')\n",
    "    image = data['image'][:]\n",
    "    label = data['label'][:]\n",
    "    return image, label\n"
   ]
  },
  {
   "cell_type": "code",
   "execution_count": 85,
   "id": "dd82f97e",
   "metadata": {},
   "outputs": [],
   "source": []
  },
  {
   "cell_type": "code",
   "execution_count": 86,
   "id": "6eaa00b2",
   "metadata": {},
   "outputs": [],
   "source": [
    "class LAHeart(Dataset):\n",
    "    def __init__(self, split='train',label = True, transform=None):\n",
    "        self.root = f'./datas/{split}'\n",
    "        self.transform = transform\n",
    "        self.label = label\n",
    "        self.split = split\n",
    "        self.path_list = os.listdir(self.root)\n",
    "        self.path_list = [item.replace('\\n','') for item in self.path_list]\n",
    "\n",
    "    def __len__(self):\n",
    "        return len(self.path_list)   \n",
    "\n",
    "    def __getitem__(self, index):\n",
    "        image_name = self.path_list[index]\n",
    "        path = os.path.join(self.root, self.path_list[index])\n",
    "        image, label = read_h5(path)\n",
    "        #print(type(image))\n",
    "        #print(type(label))\n",
    "        sample = {'image': image, 'label': label}\n",
    "        if self.transform:\n",
    "            sample = self.transform(sample)\n",
    "        return sample"
   ]
  },
  {
   "cell_type": "code",
   "execution_count": 87,
   "id": "8ba0fd19",
   "metadata": {},
   "outputs": [
    {
     "data": {
      "text/plain": [
       "<__main__.LAHeart at 0x26f173b3c10>"
      ]
     },
     "execution_count": 87,
     "metadata": {},
     "output_type": "execute_result"
    }
   ],
   "source": [
    "LAHeart()"
   ]
  },
  {
   "cell_type": "code",
   "execution_count": 88,
   "id": "d40c477b",
   "metadata": {},
   "outputs": [
    {
     "name": "stdout",
     "output_type": "stream",
     "text": [
      "['5BHTH9RHH3PQT913I59W.h5', '78NJ5YFQF72BGC8RO51C.h5', 'A11O45O3NAXWM7T2H8CH.h5', 'AT5CRO5JUDBWD4RUPXSQ.h5', 'BYSRSI3H4YTWKMM3MADP.h5', 'CBIJFVZ5L9BS0LKWE8YL.h5', 'E2ZMO66WGS74UKXTZPPQ.h5', 'GSC9KNY0VEZXFSGWNF25.h5', 'HVE7DR3CUA2IM3RC6OMA.h5', 'IJJY51YW3W4YJJ7DTVTK.h5', 'KM5RYAMP4P4ZP6XWP3Q2.h5', 'KSNYHUBHHUJTYJ14UQZR.h5', 'OIRDLE32TXZX942FVZMM.h5', 'P1OTI3IWJUIB5NRLULLH.h5']\n",
      "14\n",
      "A11O45O3NAXWM7T2H8CH.h5\n"
     ]
    }
   ],
   "source": [
    "lah = LAHeart()\n",
    "print(lah.path_list)\n",
    "print(len(lah.path_list))\n",
    "print(lah.path_list[2])\n",
    "#print(lah[1])"
   ]
  },
  {
   "cell_type": "code",
   "execution_count": 89,
   "id": "b60d9810",
   "metadata": {},
   "outputs": [],
   "source": [
    "class RandomCrop(object):\n",
    "\n",
    "    def __init__(self, output_size):\n",
    "        self.output_size = output_size\n",
    "\n",
    "    def __call__(self, sample):\n",
    "        image, label = sample['image'], sample['label']\n",
    "\n",
    "        if label.shape[0] <= self.output_size[0] or label.shape[1] <= self.output_size[1] or label.shape[2] <= \\\n",
    "                self.output_size[2]:\n",
    "            pw = max((self.output_size[0] - label.shape[0]) // 2 + 3, 0)\n",
    "            ph = max((self.output_size[1] - label.shape[1]) // 2 + 3, 0)\n",
    "            pd = max((self.output_size[2] - label.shape[2]) // 2 + 3, 0)\n",
    "            image = np.pad(image, [(pw, pw), (ph, ph), (pd, pd)], mode='constant', constant_values=0)\n",
    "            label = np.pad(label, [(pw, pw), (ph, ph), (pd, pd)], mode='constant', constant_values=0)\n",
    "\n",
    "        (w, h, d) = image.shape\n",
    "        w1 = np.random.randint(0, w - self.output_size[0])\n",
    "        h1 = np.random.randint(0, h - self.output_size[1])\n",
    "        d1 = np.random.randint(0, d - self.output_size[2])\n",
    "\n",
    "        label = label[w1:w1 + self.output_size[0], h1:h1 + self.output_size[1], d1:d1 + self.output_size[2]]\n",
    "        image = image[w1:w1 + self.output_size[0], h1:h1 + self.output_size[1], d1:d1 + self.output_size[2]]\n",
    "        return {'image': image, 'label': label}\n",
    "\n",
    "\n",
    "class RandomRotFlip(object):\n",
    "    def __call__(self, sample):\n",
    "        image, label = sample['image'], sample['label']\n",
    "        k = np.random.randint(0, 4)\n",
    "        image = np.rot90(image, k)\n",
    "        label = np.rot90(label, k)\n",
    "        axis = np.random.randint(0, 2)\n",
    "        image = np.flip(image, axis=axis).copy()\n",
    "        label = np.flip(label, axis=axis).copy()\n",
    "\n",
    "        return {'image': image, 'label': label}\n",
    "\n",
    "\n",
    "class ToTensor(object):\n",
    "\n",
    "    def __call__(self, sample):\n",
    "        image = sample['image']\n",
    "        image = image.reshape(1, image.shape[0], image.shape[1], image.shape[2]).astype(np.float32)\n",
    "        if 'onehot_label' in sample:\n",
    "            return {'image': torch.from_numpy(image), 'label': torch.from_numpy(sample['label']).long(),\n",
    "                    'onehot_label': torch.from_numpy(sample['onehot_label']).long()}\n",
    "        else:\n",
    "            return {'image': torch.from_numpy(image), 'label': torch.from_numpy(sample['label']).long()}"
   ]
  },
  {
   "cell_type": "code",
   "execution_count": 90,
   "id": "fea2cbf0",
   "metadata": {},
   "outputs": [],
   "source": [
    "def dice_loss(pred, target , num=0):\n",
    "    smooth = 1e-5\n",
    "    target = target.float()\n",
    "    pred = F.softmax(pred, dim=1)\n",
    "    intersection = torch.sum(pred * target)\n",
    "    loss = (2. * intersection + smooth) /(torch.sum(pred * pred) + torch.sum(target * target) + smooth)\n",
    "    if num == 1:\n",
    "        return loss\n",
    "    loss = 1 - loss\n",
    "    return loss"
   ]
  },
  {
   "cell_type": "code",
   "execution_count": 91,
   "id": "fdfa116c",
   "metadata": {
    "scrolled": true
   },
   "outputs": [
    {
     "name": "stdout",
     "output_type": "stream",
     "text": [
      "Epoch 1\n",
      "-------------------------------\n"
     ]
    },
    {
     "name": "stderr",
     "output_type": "stream",
     "text": [
      "100%|██████████| 7/7 [37:10<00:00, 318.64s/it]\n"
     ]
    },
    {
     "name": "stdout",
     "output_type": "stream",
     "text": [
      "=>train loss: 0.2643\n",
      "Epoch 2\n",
      "-------------------------------\n"
     ]
    },
    {
     "name": "stderr",
     "output_type": "stream",
     "text": [
      "100%|██████████| 7/7 [36:47<00:00, 315.31s/it]\n"
     ]
    },
    {
     "name": "stdout",
     "output_type": "stream",
     "text": [
      "=>train loss: 0.1936\n",
      "Epoch 3\n",
      "-------------------------------\n"
     ]
    },
    {
     "name": "stderr",
     "output_type": "stream",
     "text": [
      "100%|██████████| 7/7 [36:50<00:00, 315.74s/it]\n"
     ]
    },
    {
     "name": "stdout",
     "output_type": "stream",
     "text": [
      "=>train loss: 0.1800\n",
      "Epoch 4\n",
      "-------------------------------\n"
     ]
    },
    {
     "name": "stderr",
     "output_type": "stream",
     "text": [
      "100%|██████████| 7/7 [36:50<00:00, 315.77s/it]\n"
     ]
    },
    {
     "name": "stdout",
     "output_type": "stream",
     "text": [
      "=>train loss: 0.1763\n",
      "Epoch 5\n",
      "-------------------------------\n"
     ]
    },
    {
     "name": "stderr",
     "output_type": "stream",
     "text": [
      "100%|██████████| 7/7 [37:12<00:00, 318.87s/it]\n"
     ]
    },
    {
     "name": "stdout",
     "output_type": "stream",
     "text": [
      "=>train loss: 0.1534\n",
      "Epoch 6\n",
      "-------------------------------\n"
     ]
    },
    {
     "name": "stderr",
     "output_type": "stream",
     "text": [
      "100%|██████████| 7/7 [37:11<00:00, 318.84s/it]\n"
     ]
    },
    {
     "name": "stdout",
     "output_type": "stream",
     "text": [
      "=>train loss: 0.1618\n",
      "Epoch 7\n",
      "-------------------------------\n"
     ]
    },
    {
     "name": "stderr",
     "output_type": "stream",
     "text": [
      "100%|██████████| 7/7 [37:07<00:00, 318.27s/it]\n"
     ]
    },
    {
     "name": "stdout",
     "output_type": "stream",
     "text": [
      "=>train loss: 0.1597\n",
      "Epoch 8\n",
      "-------------------------------\n"
     ]
    },
    {
     "name": "stderr",
     "output_type": "stream",
     "text": [
      "100%|██████████| 7/7 [37:12<00:00, 318.94s/it]\n"
     ]
    },
    {
     "name": "stdout",
     "output_type": "stream",
     "text": [
      "=>train loss: 0.1493\n",
      "Epoch 9\n",
      "-------------------------------\n"
     ]
    },
    {
     "name": "stderr",
     "output_type": "stream",
     "text": [
      "100%|██████████| 7/7 [36:55<00:00, 316.51s/it]\n"
     ]
    },
    {
     "name": "stdout",
     "output_type": "stream",
     "text": [
      "=>train loss: 0.1718\n",
      "Epoch 10\n",
      "-------------------------------\n"
     ]
    },
    {
     "name": "stderr",
     "output_type": "stream",
     "text": [
      "100%|██████████| 7/7 [36:58<00:00, 316.95s/it]\n"
     ]
    },
    {
     "name": "stdout",
     "output_type": "stream",
     "text": [
      "=>train loss: 0.1755\n",
      "(2, 1, 112, 112, 80)\n",
      "(2, 112, 112, 80)\n",
      "(2, 112, 112, 80)\n",
      "Epoch 11\n",
      "-------------------------------\n"
     ]
    },
    {
     "name": "stderr",
     "output_type": "stream",
     "text": [
      "100%|██████████| 7/7 [37:07<00:00, 318.24s/it]\n"
     ]
    },
    {
     "name": "stdout",
     "output_type": "stream",
     "text": [
      "=>train loss: 0.1814\n",
      "Epoch 12\n",
      "-------------------------------\n"
     ]
    },
    {
     "name": "stderr",
     "output_type": "stream",
     "text": [
      "100%|██████████| 7/7 [36:57<00:00, 316.75s/it]\n"
     ]
    },
    {
     "name": "stdout",
     "output_type": "stream",
     "text": [
      "=>train loss: 0.1785\n",
      "Epoch 13\n",
      "-------------------------------\n"
     ]
    },
    {
     "name": "stderr",
     "output_type": "stream",
     "text": [
      "100%|██████████| 7/7 [36:47<00:00, 315.33s/it]\n"
     ]
    },
    {
     "name": "stdout",
     "output_type": "stream",
     "text": [
      "=>train loss: 0.1666\n",
      "Epoch 14\n",
      "-------------------------------\n"
     ]
    },
    {
     "name": "stderr",
     "output_type": "stream",
     "text": [
      "100%|██████████| 7/7 [36:44<00:00, 314.99s/it]\n"
     ]
    },
    {
     "name": "stdout",
     "output_type": "stream",
     "text": [
      "=>train loss: 0.1662\n",
      "Epoch 15\n",
      "-------------------------------\n"
     ]
    },
    {
     "name": "stderr",
     "output_type": "stream",
     "text": [
      "100%|██████████| 7/7 [37:00<00:00, 317.22s/it]\n"
     ]
    },
    {
     "name": "stdout",
     "output_type": "stream",
     "text": [
      "=>train loss: 0.1769\n",
      "Epoch 16\n",
      "-------------------------------\n"
     ]
    },
    {
     "name": "stderr",
     "output_type": "stream",
     "text": [
      "100%|██████████| 7/7 [36:57<00:00, 316.79s/it]\n"
     ]
    },
    {
     "name": "stdout",
     "output_type": "stream",
     "text": [
      "=>train loss: 0.1595\n",
      "Epoch 17\n",
      "-------------------------------\n"
     ]
    },
    {
     "name": "stderr",
     "output_type": "stream",
     "text": [
      "100%|██████████| 7/7 [37:17<00:00, 319.61s/it]\n"
     ]
    },
    {
     "name": "stdout",
     "output_type": "stream",
     "text": [
      "=>train loss: 0.1529\n",
      "Epoch 18\n",
      "-------------------------------\n"
     ]
    },
    {
     "name": "stderr",
     "output_type": "stream",
     "text": [
      "100%|██████████| 7/7 [37:02<00:00, 317.57s/it]\n"
     ]
    },
    {
     "name": "stdout",
     "output_type": "stream",
     "text": [
      "=>train loss: 0.1692\n",
      "Epoch 19\n",
      "-------------------------------\n"
     ]
    },
    {
     "name": "stderr",
     "output_type": "stream",
     "text": [
      "100%|██████████| 7/7 [37:01<00:00, 317.32s/it]\n"
     ]
    },
    {
     "name": "stdout",
     "output_type": "stream",
     "text": [
      "=>train loss: 0.1683\n",
      "Epoch 20\n",
      "-------------------------------\n"
     ]
    },
    {
     "name": "stderr",
     "output_type": "stream",
     "text": [
      "100%|██████████| 7/7 [36:44<00:00, 314.91s/it]\n"
     ]
    },
    {
     "name": "stdout",
     "output_type": "stream",
     "text": [
      "=>train loss: 0.1599\n",
      "(2, 1, 112, 112, 80)\n",
      "(2, 112, 112, 80)\n",
      "(2, 112, 112, 80)\n",
      "Epoch 21\n",
      "-------------------------------\n"
     ]
    },
    {
     "name": "stderr",
     "output_type": "stream",
     "text": [
      "100%|██████████| 7/7 [37:04<00:00, 317.74s/it]\n"
     ]
    },
    {
     "name": "stdout",
     "output_type": "stream",
     "text": [
      "=>train loss: 0.1627\n",
      "Epoch 22\n",
      "-------------------------------\n"
     ]
    },
    {
     "name": "stderr",
     "output_type": "stream",
     "text": [
      "100%|██████████| 7/7 [36:24<00:00, 312.01s/it]\n"
     ]
    },
    {
     "name": "stdout",
     "output_type": "stream",
     "text": [
      "=>train loss: 0.1533\n",
      "Epoch 23\n",
      "-------------------------------\n"
     ]
    },
    {
     "name": "stderr",
     "output_type": "stream",
     "text": [
      "100%|██████████| 7/7 [36:48<00:00, 315.49s/it]\n"
     ]
    },
    {
     "name": "stdout",
     "output_type": "stream",
     "text": [
      "=>train loss: 0.1534\n",
      "Epoch 24\n",
      "-------------------------------\n"
     ]
    },
    {
     "name": "stderr",
     "output_type": "stream",
     "text": [
      "100%|██████████| 7/7 [36:44<00:00, 314.99s/it]\n"
     ]
    },
    {
     "name": "stdout",
     "output_type": "stream",
     "text": [
      "=>train loss: 0.1607\n",
      "Epoch 25\n",
      "-------------------------------\n"
     ]
    },
    {
     "name": "stderr",
     "output_type": "stream",
     "text": [
      "100%|██████████| 7/7 [36:48<00:00, 315.45s/it]\n"
     ]
    },
    {
     "name": "stdout",
     "output_type": "stream",
     "text": [
      "=>train loss: 0.1681\n",
      "Epoch 26\n",
      "-------------------------------\n"
     ]
    },
    {
     "name": "stderr",
     "output_type": "stream",
     "text": [
      "100%|██████████| 7/7 [36:44<00:00, 314.99s/it]\n"
     ]
    },
    {
     "name": "stdout",
     "output_type": "stream",
     "text": [
      "=>train loss: 0.1635\n",
      "Epoch 27\n",
      "-------------------------------\n"
     ]
    },
    {
     "name": "stderr",
     "output_type": "stream",
     "text": [
      "100%|██████████| 7/7 [36:36<00:00, 313.86s/it]\n"
     ]
    },
    {
     "name": "stdout",
     "output_type": "stream",
     "text": [
      "=>train loss: 0.1571\n",
      "Epoch 28\n",
      "-------------------------------\n"
     ]
    },
    {
     "name": "stderr",
     "output_type": "stream",
     "text": [
      "100%|██████████| 7/7 [36:34<00:00, 313.55s/it]\n"
     ]
    },
    {
     "name": "stdout",
     "output_type": "stream",
     "text": [
      "=>train loss: 0.1698\n",
      "Epoch 29\n",
      "-------------------------------\n"
     ]
    },
    {
     "name": "stderr",
     "output_type": "stream",
     "text": [
      "100%|██████████| 7/7 [36:43<00:00, 314.79s/it]\n"
     ]
    },
    {
     "name": "stdout",
     "output_type": "stream",
     "text": [
      "=>train loss: 0.1592\n",
      "Epoch 30\n",
      "-------------------------------\n"
     ]
    },
    {
     "name": "stderr",
     "output_type": "stream",
     "text": [
      "100%|██████████| 7/7 [36:37<00:00, 313.89s/it]\n"
     ]
    },
    {
     "name": "stdout",
     "output_type": "stream",
     "text": [
      "=>train loss: 0.1791\n",
      "(2, 1, 112, 112, 80)\n",
      "(2, 112, 112, 80)\n",
      "(2, 112, 112, 80)\n",
      "Epoch 31\n",
      "-------------------------------\n"
     ]
    },
    {
     "name": "stderr",
     "output_type": "stream",
     "text": [
      "100%|██████████| 7/7 [36:25<00:00, 312.17s/it]\n"
     ]
    },
    {
     "name": "stdout",
     "output_type": "stream",
     "text": [
      "=>train loss: 0.1612\n",
      "Epoch 32\n",
      "-------------------------------\n"
     ]
    },
    {
     "name": "stderr",
     "output_type": "stream",
     "text": [
      "100%|██████████| 7/7 [36:54<00:00, 316.32s/it]\n"
     ]
    },
    {
     "name": "stdout",
     "output_type": "stream",
     "text": [
      "=>train loss: 0.1870\n",
      "Epoch 33\n",
      "-------------------------------\n"
     ]
    },
    {
     "name": "stderr",
     "output_type": "stream",
     "text": [
      "100%|██████████| 7/7 [36:48<00:00, 315.50s/it]\n"
     ]
    },
    {
     "name": "stdout",
     "output_type": "stream",
     "text": [
      "=>train loss: 0.1623\n",
      "Epoch 34\n",
      "-------------------------------\n"
     ]
    },
    {
     "name": "stderr",
     "output_type": "stream",
     "text": [
      "100%|██████████| 7/7 [36:43<00:00, 314.84s/it]\n"
     ]
    },
    {
     "name": "stdout",
     "output_type": "stream",
     "text": [
      "=>train loss: 0.1682\n",
      "Epoch 35\n",
      "-------------------------------\n"
     ]
    },
    {
     "name": "stderr",
     "output_type": "stream",
     "text": [
      "100%|██████████| 7/7 [36:41<00:00, 314.47s/it]\n"
     ]
    },
    {
     "name": "stdout",
     "output_type": "stream",
     "text": [
      "=>train loss: 0.1613\n",
      "Epoch 36\n",
      "-------------------------------\n"
     ]
    },
    {
     "name": "stderr",
     "output_type": "stream",
     "text": [
      "100%|██████████| 7/7 [36:30<00:00, 312.91s/it]\n"
     ]
    },
    {
     "name": "stdout",
     "output_type": "stream",
     "text": [
      "=>train loss: 0.1540\n",
      "Epoch 37\n",
      "-------------------------------\n"
     ]
    },
    {
     "name": "stderr",
     "output_type": "stream",
     "text": [
      "100%|██████████| 7/7 [36:40<00:00, 314.32s/it]\n"
     ]
    },
    {
     "name": "stdout",
     "output_type": "stream",
     "text": [
      "=>train loss: 0.1526\n",
      "Epoch 38\n",
      "-------------------------------\n"
     ]
    },
    {
     "name": "stderr",
     "output_type": "stream",
     "text": [
      "100%|██████████| 7/7 [36:25<00:00, 312.25s/it]\n"
     ]
    },
    {
     "name": "stdout",
     "output_type": "stream",
     "text": [
      "=>train loss: 0.1651\n",
      "Epoch 39\n",
      "-------------------------------\n"
     ]
    },
    {
     "name": "stderr",
     "output_type": "stream",
     "text": [
      "100%|██████████| 7/7 [36:17<00:00, 311.07s/it]\n"
     ]
    },
    {
     "name": "stdout",
     "output_type": "stream",
     "text": [
      "=>train loss: 0.1471\n",
      "Epoch 40\n",
      "-------------------------------\n"
     ]
    },
    {
     "name": "stderr",
     "output_type": "stream",
     "text": [
      "100%|██████████| 7/7 [36:18<00:00, 311.25s/it]\n"
     ]
    },
    {
     "name": "stdout",
     "output_type": "stream",
     "text": [
      "=>train loss: 0.1452\n",
      "(2, 1, 112, 112, 80)\n",
      "(2, 112, 112, 80)\n",
      "(2, 112, 112, 80)\n",
      "Epoch 41\n",
      "-------------------------------\n"
     ]
    },
    {
     "name": "stderr",
     "output_type": "stream",
     "text": [
      "100%|██████████| 7/7 [36:16<00:00, 310.99s/it]\n"
     ]
    },
    {
     "name": "stdout",
     "output_type": "stream",
     "text": [
      "=>train loss: 0.1528\n",
      "Epoch 42\n",
      "-------------------------------\n"
     ]
    },
    {
     "name": "stderr",
     "output_type": "stream",
     "text": [
      "100%|██████████| 7/7 [36:18<00:00, 311.22s/it]\n"
     ]
    },
    {
     "name": "stdout",
     "output_type": "stream",
     "text": [
      "=>train loss: 0.1777\n",
      "Epoch 43\n",
      "-------------------------------\n"
     ]
    },
    {
     "name": "stderr",
     "output_type": "stream",
     "text": [
      "100%|██████████| 7/7 [36:23<00:00, 311.99s/it]\n"
     ]
    },
    {
     "name": "stdout",
     "output_type": "stream",
     "text": [
      "=>train loss: 0.1762\n",
      "Epoch 44\n",
      "-------------------------------\n"
     ]
    },
    {
     "name": "stderr",
     "output_type": "stream",
     "text": [
      "100%|██████████| 7/7 [36:39<00:00, 314.20s/it]\n"
     ]
    },
    {
     "name": "stdout",
     "output_type": "stream",
     "text": [
      "=>train loss: 0.1500\n",
      "Epoch 45\n",
      "-------------------------------\n"
     ]
    },
    {
     "name": "stderr",
     "output_type": "stream",
     "text": [
      "100%|██████████| 7/7 [36:27<00:00, 312.49s/it]\n"
     ]
    },
    {
     "name": "stdout",
     "output_type": "stream",
     "text": [
      "=>train loss: 0.1750\n",
      "Epoch 46\n",
      "-------------------------------\n"
     ]
    },
    {
     "name": "stderr",
     "output_type": "stream",
     "text": [
      "100%|██████████| 7/7 [36:23<00:00, 311.87s/it]\n"
     ]
    },
    {
     "name": "stdout",
     "output_type": "stream",
     "text": [
      "=>train loss: 0.1713\n",
      "Epoch 47\n",
      "-------------------------------\n"
     ]
    },
    {
     "name": "stderr",
     "output_type": "stream",
     "text": [
      "100%|██████████| 7/7 [36:12<00:00, 310.36s/it]\n"
     ]
    },
    {
     "name": "stdout",
     "output_type": "stream",
     "text": [
      "=>train loss: 0.1560\n",
      "Epoch 48\n",
      "-------------------------------\n"
     ]
    },
    {
     "name": "stderr",
     "output_type": "stream",
     "text": [
      "100%|██████████| 7/7 [36:26<00:00, 312.35s/it]\n"
     ]
    },
    {
     "name": "stdout",
     "output_type": "stream",
     "text": [
      "=>train loss: 0.1645\n",
      "Epoch 49\n",
      "-------------------------------\n"
     ]
    },
    {
     "name": "stderr",
     "output_type": "stream",
     "text": [
      "100%|██████████| 7/7 [36:19<00:00, 311.38s/it]\n"
     ]
    },
    {
     "name": "stdout",
     "output_type": "stream",
     "text": [
      "=>train loss: 0.1608\n",
      "Epoch 50\n",
      "-------------------------------\n"
     ]
    },
    {
     "name": "stderr",
     "output_type": "stream",
     "text": [
      "100%|██████████| 7/7 [36:23<00:00, 311.95s/it]\n"
     ]
    },
    {
     "name": "stdout",
     "output_type": "stream",
     "text": [
      "=>train loss: 0.1474\n",
      "(2, 1, 112, 112, 80)\n",
      "(2, 112, 112, 80)\n",
      "(2, 112, 112, 80)\n"
     ]
    }
   ],
   "source": [
    "from torch.utils.data import DataLoader\n",
    "\n",
    "if __name__ == '__main__':\n",
    "    max_epoch = 50  #it was 1000\n",
    "    batch_size = 2\n",
    "    crop_sz =(112,112,80)  #(112,112,80)\n",
    "\n",
    "    model = Res3DUnet(n_channels=1, n_classes=2,drop=True)\n",
    "    \n",
    "    train_transform =transforms.Compose([\n",
    "                    RandomRotFlip(),\n",
    "                    RandomCrop(crop_sz),\n",
    "                    ToTensor()\n",
    "                    ])\n",
    "\n",
    "    #test_transform = None\n",
    "    \n",
    "    train_dst = LAHeart(split='train', transform=train_transform)\n",
    "    #test_dst = LAHeart(split='test', transform=test_transform)\n",
    "    trainloader = DataLoader(\n",
    "        train_dst, \n",
    "        batch_size=batch_size, \n",
    "        shuffle=True,\n",
    "        num_workers=0, \n",
    "        pin_memory=True)\n",
    "\n",
    "    learning_rate = 0.01\n",
    "    # optimizer\n",
    "    optimizer = torch.optim.Adam(model.parameters(), lr=learning_rate, weight_decay=0.0001)\n",
    "    train_loss_list = []\n",
    "    train_Acc_list = []\n",
    "    model.train()\n",
    "    for epoch in range(max_epoch):\n",
    "            num_batches = len(train_dst)\n",
    "            t_loss = 0\n",
    "            print(f\"Epoch {epoch+1}\\n-------------------------------\")\n",
    "            for batch in tqdm(trainloader):\n",
    "\n",
    "                X, y = batch['image'], batch['label']\n",
    "                optimizer.zero_grad()\n",
    "                output = model(X)\n",
    "        \n",
    "                cross_loss =torch.nn.functional.cross_entropy(output, y)\n",
    "                dice = dice_loss(output,y,1)\n",
    "                loss = 0.5*(cross_loss+dice)\n",
    "                loss.backward()\n",
    "                optimizer.step()\n",
    "                pred = torch.argmax(output, dim=1)\n",
    "                t_loss += loss.item()\n",
    "            train_loss = t_loss/num_batches \n",
    "            print('=>train loss: {:.4f}'.format(train_loss))\n",
    "            if epoch % 20== 0:\n",
    "                lr_ = learning_rate * 0.1 ** (epoch // 20) \n",
    "            train_loss_list.append(train_loss)\n",
    "            epoch1 = epoch + 1\n",
    "\n",
    "            if epoch1 % 10 == 0:\n",
    "                image3d = X.detach().cpu().numpy()\n",
    "                label3d = y.detach().cpu().numpy()\n",
    "                pred3d = pred.detach().cpu().numpy()\n",
    "                print(image3d.shape)\n",
    "                print(label3d.shape)\n",
    "                print(pred3d.shape)\n",
    "\n",
    "                for i in range(3):\n",
    "                    imageslice = image3d[0][0][:, :, i*20]\n",
    "                    labelslice = label3d[0][:, :, i*20]\n",
    "                    predslice = pred3d[0][:, :, i*20]\n",
    "                    for index in range(112):\n",
    "                        for j in range(112):\n",
    "                            if imageslice[index][j] != 0:\n",
    "                                imageslice[index][j] *= 15\n",
    "                            if labelslice[index][j] != 0:\n",
    "                                labelslice[index][j] = 255\n",
    "                            if predslice[index][j] != 0:\n",
    "                                predslice[index][j] = 255\n",
    "                                  \n",
    "\n",
    "                im = Image.fromarray(np.int8(imageslice)).convert('L')\n",
    "                imagepath = \"./image/\" + str(epoch1) + \"_\" + str(i) + \".png\"\n",
    "                im.save(imagepath)\n",
    "                \n",
    "                pr = Image.fromarray(np.int8(predslice)).convert('L')\n",
    "                predpath = \"./pred/\" + str(epoch1) + \"_\" + str(i) + \".png\"\n",
    "                pr.save(predpath)\n",
    "\n",
    "                la = Image.fromarray(np.int8(labelslice)).convert('L')\n",
    "                labelpath = \"./label/\" + str(epoch1) + \"_\"+ str(i) + \".png\"\n",
    "                la.save(labelpath)\n"
   ]
  },
  {
   "cell_type": "code",
   "execution_count": 93,
   "id": "8ec67862",
   "metadata": {},
   "outputs": [
    {
     "data": {
      "image/png": "[encoded data removed]",
      "text/plain": [
       "<Figure size 432x288 with 1 Axes>"
      ]
     },
     "metadata": {
      "needs_background": "light"
     },
     "output_type": "display_data"
    }
   ],
   "source": [
    "#plot train loss in each epoch\n",
    "import matplotlib.pyplot as plt\n",
    "%matplotlib inline\n",
    "dim1 = []\n",
    "dim1.extend(range(1, 51))\n",
    "plt.plot(dim1,train_loss_list,label='Train loss')\n",
    "plt.title('Train loss')\n",
    "plt.xlabel('epoch')\n",
    "plt.ylabel('loss')\n",
    "plt.legend()\n",
    "plt.show()"
   ]
  },
  {
   "cell_type": "code",
   "execution_count": 94,
   "id": "c2c68833",
   "metadata": {},
   "outputs": [],
   "source": [
    "#metrics\n",
    "import medpy\n",
    "from medpy import metric\n",
    "\n",
    "def eval_metrics(pred,gt):\n",
    "    Dice = metric.binary.dc(pred, gt)\n",
    "    jaccard = metric.binary.jc(pred, gt)\n",
    "    HD95 = metric.binary.hd95(pred, gt)\n",
    "    ASD = metric.binary.asd(pred, gt)\n",
    "    \n",
    "    return Dice,jaccard,HD95,ASD"
   ]
  },
  {
   "cell_type": "code",
   "execution_count": 96,
   "id": "8e9f5ee5",
   "metadata": {},
   "outputs": [
    {
     "name": "stdout",
     "output_type": "stream",
     "text": [
      "Metrics: (0.17560968890067447, 0.09625664411408603, 60.73713855624086, 38.52749308696737)\n",
      "the of average of 4 metrics is = [0.00878048 0.00481283 3.03685693 1.92637465]\n",
      "Metrics: (0.1843661492538913, 0.10154368358913814, 55.60575509783138, 34.96597785237338)\n",
      "the of average of 4 metrics is = [0.01799879 0.00989002 5.81714468 3.67467355]\n",
      "Metrics: (0.18553799208239877, 0.10225509890688463, 58.90670590009256, 37.73803550464329)\n",
      "the of average of 4 metrics is = [0.02727569 0.01500277 8.76247998 5.56157532]\n",
      "Metrics: (0.16340730569994383, 0.08897307835704965, 60.99508163674453, 38.35136113282454)\n",
      "the of average of 4 metrics is = [ 0.03544606  0.01945143 11.81223406  7.47914338]\n",
      "Metrics: (0.09083640513209361, 0.04757916261145683, 64.50581369148055, 40.83794878134267)\n",
      "the of average of 4 metrics is = [ 0.03998788  0.02183038 15.03752474  9.52104082]\n",
      "Metrics: (0.2306114074681986, 0.1303339517625232, 62.07253821135398, 36.57516508247673)\n",
      "the of average of 4 metrics is = [ 0.05151845  0.02834708 18.14115165 11.34979907]\n",
      "Metrics: (0.16690842154879332, 0.0910529640258429, 55.5517776493246, 36.72601234094236)\n",
      "the of average of 4 metrics is = [ 0.05986387  0.03289973 20.91874054 13.18609969]\n",
      "Metrics: (0.14685737530095977, 0.07924774560987186, 60.00833275470999, 40.7422112978257)\n",
      "the of average of 4 metrics is = [ 0.06720674  0.03686212 23.91915717 15.22321025]\n",
      "Metrics: (0.18022099470819122, 0.09903454990090518, 57.49565188619996, 38.600182453967065)\n",
      "the of average of 4 metrics is = [ 0.07621779  0.04181384 26.79393977 17.15321938]\n",
      "Metrics: (0.1771657222604692, 0.09719244608465984, 66.18912297349165, 37.294130590426235)\n",
      "the of average of 4 metrics is = [ 0.08507607  0.04667347 30.10339592 19.01792591]\n",
      "Metrics: (0.1579560480671857, 0.08575042300236434, 56.79788728465171, 37.477067561039654)\n",
      "the of average of 4 metrics is = [ 0.09297388  0.05096099 32.94329028 20.89177928]\n",
      "Metrics: (0.14090861732343388, 0.07579434697855751, 67.83067152844649, 41.68086369574533)\n",
      "the of average of 4 metrics is = [ 0.10001931  0.0547507  36.33482386 22.97582247]\n",
      "Metrics: (0.13926032017148068, 0.0748413771583108, 68.09552114493287, 41.60269112851402)\n",
      "the of average of 4 metrics is = [ 0.10698232  0.05849277 39.73959992 25.05595703]\n",
      "Metrics: (0.15413865118996511, 0.08350499959779381, 59.04235767650204, 38.9399162593165)\n",
      "the of average of 4 metrics is = [ 0.11468925  0.06266802 42.6917178  27.00295284]\n",
      "Metrics: (0.16232980833624042, 0.08833457117203002, 63.984373092185564, 40.07460946430857)\n",
      "the of average of 4 metrics is = [ 0.12280575  0.06708475 45.89093645 29.00668331]\n",
      "Metrics: (0.1777225798976069, 0.09752772982700995, 61.78187436457395, 38.245658848187986)\n",
      "the of average of 4 metrics is = [ 0.13169187  0.07196114 48.98003017 30.91896625]\n",
      "Metrics: (0.2289263600215446, 0.12925852141547847, 55.641710972974224, 35.988169442174254)\n",
      "the of average of 4 metrics is = [ 0.14313819  0.07842406 51.76211572 32.71837473]\n",
      "Metrics: (0.14120989233099743, 0.07596871306146571, 68.09552114493287, 40.91728710145796)\n",
      "the of average of 4 metrics is = [ 0.15019869  0.0822225  55.16689178 34.76423908]\n",
      "Metrics: (0.3090798199433375, 0.18278794208546276, 57.18391382198319, 34.22170519048785)\n",
      "the of average of 4 metrics is = [ 0.16565268  0.0913619  58.02608747 36.47532434]\n",
      "Metrics: (0.202893252958064, 0.11289994503221874, 63.095166217389426, 36.84993711504764)\n",
      "the of average of 4 metrics is = [ 0.17579734  0.09700689 61.18084578 38.3178212 ]\n"
     ]
    }
   ],
   "source": [
    "import torch\n",
    "import numpy as np\n",
    "import math\n",
    "from glob import glob\n",
    "import time\n",
    "\n",
    "\n",
    "from dataset import read_h5\n",
    "\n",
    "\n",
    "if __name__ == '__main__':\n",
    "    model = Res3DUnet(n_channels=1, n_classes=2,drop=False)\n",
    "    model = model.to(device)\n",
    "    patch_size = (112, 112, 80)\n",
    "    stride_xy = 18\n",
    "    stride_z = 4\n",
    "    total_metric = 0.0\n",
    "    path_list = glob('./datas/test/*.h5')\n",
    "    model.eval()\n",
    "    for path in path_list:\n",
    "        image, label = read_h5(path)\n",
    "        #print(label)\n",
    "        w, h, d = image.shape\n",
    "        sx = math.ceil((w - patch_size[0]) / stride_xy) + 1\n",
    "        sy = math.ceil((h - patch_size[1]) / stride_xy) + 1\n",
    "        sz = math.ceil((d - patch_size[2]) / stride_z) + 1\n",
    "        #print(sx, sy, sz)\n",
    "        scores = np.zeros((2, ) + image.shape).astype(np.float32)\n",
    "        counts = np.zeros(image.shape).astype(np.float32)\n",
    "        \n",
    "        # inference all windows (patches)\n",
    "        for x in range(0, sx):\n",
    "            xs = min(stride_xy * x, w - patch_size[0])\n",
    "            for y in range(0, sy):\n",
    "                ys = min(stride_xy * y, h - patch_size[1])\n",
    "                for z in range(0, sz):\n",
    "                    zs = min(stride_z * z, d - patch_size[2])\n",
    "\n",
    "                    # extract one patch for model inference\n",
    "                    test_patch = image[xs:xs+patch_size[0], ys:ys+patch_size[1], zs:zs+patch_size[2]]\n",
    "                    with torch.no_grad():\n",
    "                        test_patch = torch.from_numpy(test_patch) # if use cuda\n",
    "                        test_patch = test_patch.unsqueeze(0).unsqueeze(0) # [1, 1, w, h, d]\n",
    "                        out = model(test_patch)\n",
    "                        out = torch.softmax(out, dim=1)\n",
    "                        out = out.data.numpy() # [1, 2, w, h, d]\n",
    "                    \n",
    "                    # record the predicted scores\n",
    "                    scores[:, xs:xs+patch_size[0], ys:ys+patch_size[1], zs:zs+patch_size[2]] += out[0, ...]\n",
    "                    counts[xs:xs+patch_size[0], ys:ys+patch_size[1], zs:zs+patch_size[2]] += 1\n",
    "        \n",
    "        scores = scores / np.expand_dims(counts, axis=0)\n",
    "        predictions = np.argmax(scores, axis = 0) # final prediction: [w, h, d]\n",
    "        metrics = eval_metrics(predictions, label[:])\n",
    "        total_metric += np.asarray(metrics)\n",
    "        print('Metrics:', metrics)\n",
    "        avrage_metric = total_metric / len(path_list)\n",
    "        print('the of average of 4 metrics is = {}'.format(avrage_metric))"
   ]
  },
  {
   "cell_type": "code",
   "execution_count": null,
   "id": "717ba7bd",
   "metadata": {},
   "outputs": [],
   "source": []
  }
 ],
 "metadata": {
  "kernelspec": {
   "display_name": "Python 3 (ipykernel)",
   "language": "python",
   "name": "python3"
  },
  "language_info": {
   "codemirror_mode": {
    "name": "ipython",
    "version": 3
   },
   "file_extension": ".py",
   "mimetype": "text/x-python",
   "name": "python",
   "nbconvert_exporter": "python",
   "pygments_lexer": "ipython3",
   "version": "3.9.12"
  }
 },
 "nbformat": 4,
 "nbformat_minor": 5
}
